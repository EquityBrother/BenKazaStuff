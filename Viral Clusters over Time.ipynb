{
 "cells": [
  {
   "cell_type": "code",
   "execution_count": 64,
   "id": "547966c4",
   "metadata": {},
   "outputs": [],
   "source": [
    "import pandas as pd\n",
    "import matplotlib.pyplot as plt\n",
    "import seaborn\n",
    "from sklearn.linear_model import LinearRegression\n",
    "import numpy as np"
   ]
  },
  {
   "cell_type": "code",
   "execution_count": 50,
   "id": "9456b108",
   "metadata": {},
   "outputs": [],
   "source": [
    "data = pd.read_csv('viral_load_by_day.csv')"
   ]
  },
  {
   "cell_type": "code",
   "execution_count": 51,
   "id": "db36ddf5",
   "metadata": {},
   "outputs": [
    {
     "data": {
      "text/html": [
       "<div>\n",
       "<style scoped>\n",
       "    .dataframe tbody tr th:only-of-type {\n",
       "        vertical-align: middle;\n",
       "    }\n",
       "\n",
       "    .dataframe tbody tr th {\n",
       "        vertical-align: top;\n",
       "    }\n",
       "\n",
       "    .dataframe thead th {\n",
       "        text-align: right;\n",
       "    }\n",
       "</style>\n",
       "<table border=\"1\" class=\"dataframe\">\n",
       "  <thead>\n",
       "    <tr style=\"text-align: right;\">\n",
       "      <th></th>\n",
       "      <th>a</th>\n",
       "      <th>b</th>\n",
       "      <th>c</th>\n",
       "      <th>d</th>\n",
       "    </tr>\n",
       "  </thead>\n",
       "  <tbody>\n",
       "    <tr>\n",
       "      <th>24</th>\n",
       "      <td>64</td>\n",
       "      <td>60</td>\n",
       "      <td>108</td>\n",
       "      <td>193</td>\n",
       "    </tr>\n",
       "    <tr>\n",
       "      <th>24</th>\n",
       "      <td>26</td>\n",
       "      <td>33</td>\n",
       "      <td>14</td>\n",
       "      <td>9</td>\n",
       "    </tr>\n",
       "    <tr>\n",
       "      <th>24</th>\n",
       "      <td>5</td>\n",
       "      <td>5</td>\n",
       "      <td>9</td>\n",
       "      <td>3</td>\n",
       "    </tr>\n",
       "    <tr>\n",
       "      <th>48</th>\n",
       "      <td>14</td>\n",
       "      <td>20</td>\n",
       "      <td>56</td>\n",
       "      <td>61</td>\n",
       "    </tr>\n",
       "    <tr>\n",
       "      <th>48</th>\n",
       "      <td>14</td>\n",
       "      <td>7</td>\n",
       "      <td>2</td>\n",
       "      <td>15</td>\n",
       "    </tr>\n",
       "    <tr>\n",
       "      <th>48</th>\n",
       "      <td>2</td>\n",
       "      <td>4</td>\n",
       "      <td>3</td>\n",
       "      <td>4</td>\n",
       "    </tr>\n",
       "    <tr>\n",
       "      <th>72</th>\n",
       "      <td>8</td>\n",
       "      <td>26</td>\n",
       "      <td>8</td>\n",
       "      <td>22</td>\n",
       "    </tr>\n",
       "    <tr>\n",
       "      <th>72</th>\n",
       "      <td>2</td>\n",
       "      <td>2</td>\n",
       "      <td>8</td>\n",
       "      <td>10</td>\n",
       "    </tr>\n",
       "    <tr>\n",
       "      <th>72</th>\n",
       "      <td>1</td>\n",
       "      <td>9</td>\n",
       "      <td>1</td>\n",
       "      <td>1</td>\n",
       "    </tr>\n",
       "  </tbody>\n",
       "</table>\n",
       "</div>"
      ],
      "text/plain": [
       "     a   b    c    d\n",
       "24  64  60  108  193\n",
       "24  26  33   14    9\n",
       "24   5   5    9    3\n",
       "48  14  20   56   61\n",
       "48  14   7    2   15\n",
       "48   2   4    3    4\n",
       "72   8  26    8   22\n",
       "72   2   2    8   10\n",
       "72   1   9    1    1"
      ]
     },
     "execution_count": 51,
     "metadata": {},
     "output_type": "execute_result"
    }
   ],
   "source": [
    "df = pd.DataFrame(data)\n",
    "df"
   ]
  },
  {
   "cell_type": "code",
   "execution_count": 52,
   "id": "d1d80c91",
   "metadata": {},
   "outputs": [
    {
     "name": "stdout",
     "output_type": "stream",
     "text": [
      "[150.5, 62.0, 11.5, 29.5, 6.0, 5.0]\n"
     ]
    }
   ],
   "source": [
    "avg_24 = []\n",
    "for i in range(3):\n",
    "    ab = (df.iloc[i][0] + df.iloc[i][1])/2\n",
    "    cd = (df.iloc[i][2] + df.iloc[i][3])/2\n",
    "    avg_24.append(cd)\n",
    "    avg_24.append(ab)\n",
    "print(avg_24)"
   ]
  },
  {
   "cell_type": "code",
   "execution_count": 84,
   "id": "4b70a114",
   "metadata": {},
   "outputs": [
    {
     "name": "stdout",
     "output_type": "stream",
     "text": [
      "[58.5, 17.0, 8.5, 10.5, 3.5, 3.0]\n"
     ]
    }
   ],
   "source": [
    "avg_48 = []\n",
    "for i in range(3,6):\n",
    "    ab = (df.iloc[i][0] + df.iloc[i][1])/2\n",
    "    cd = (df.iloc[i][2] + df.iloc[i][3])/2\n",
    "    avg_48.append(cd)\n",
    "    avg_48.append(ab)\n",
    "print(avg_48)"
   ]
  },
  {
   "cell_type": "code",
   "execution_count": 87,
   "id": "c0166b32",
   "metadata": {},
   "outputs": [
    {
     "name": "stdout",
     "output_type": "stream",
     "text": [
      "[15.0, 17.0, 9.0, 2.0, 1.0, 5.0]\n"
     ]
    }
   ],
   "source": [
    "avg_72 = []\n",
    "for i in range(6,9):\n",
    "    ab = (df.iloc[i][0] + df.iloc[i][1])/2\n",
    "    cd = (df.iloc[i][2] + df.iloc[i][3])/2\n",
    "    avg_72.append(cd)\n",
    "    avg_72.append(ab)\n",
    "print(avg_72)"
   ]
  },
  {
   "cell_type": "code",
   "execution_count": 100,
   "id": "8ce44a70",
   "metadata": {},
   "outputs": [
    {
     "data": {
      "text/plain": [
       "'\\nplt.plot(avg_24)\\nplt.ylabel(\\'Number of Clusters\\')\\nplt.xlabel(\\'Inital Viral Concentration\\')\\nplt.title(\"Linear Distribution\")\\nplt.show()\\n'"
      ]
     },
     "execution_count": 100,
     "metadata": {},
     "output_type": "execute_result"
    }
   ],
   "source": [
    "#Linear Graph of 24_hours \n",
    "#Disregard\n",
    "'''\n",
    "plt.plot(avg_24)\n",
    "plt.ylabel('Number of Clusters')\n",
    "plt.xlabel('Inital Viral Concentration')\n",
    "plt.title(\"Linear Distribution\")\n",
    "plt.show()\n",
    "'''"
   ]
  },
  {
   "cell_type": "code",
   "execution_count": 103,
   "id": "88608805",
   "metadata": {},
   "outputs": [
    {
     "name": "stdout",
     "output_type": "stream",
     "text": [
      "[0.01, 0.001, 0.0001, 1e-05, 1e-06, 1e-07] [150.5, 62.0, 11.5, 29.5, 6.0, 5.0]\n"
     ]
    },
    {
     "data": {
      "image/png": "[encoded data removed]",
      "text/plain": [
       "<Figure size 432x288 with 1 Axes>"
      ]
     },
     "metadata": {
      "needs_background": "light"
     },
     "output_type": "display_data"
    }
   ],
   "source": [
    "x_list = [ 1*10**-i for i in range(2,8)]\n",
    "#x_list.append(0)\n",
    "print(x_list,avg_24)\n",
    "plt.plot(x_list,avg_24)\n",
    "plt.xscale(\"log\")\n",
    "plt.ylabel('Number of Clusters')\n",
    "plt.xlabel('Inital Viral Concentration')\n",
    "plt.title(\"24 Hours\")\n",
    "plt.show()"
   ]
  },
  {
   "cell_type": "code",
   "execution_count": 102,
   "id": "6b37cae5",
   "metadata": {},
   "outputs": [
    {
     "data": {
      "image/png": "[encoded data removed]",
      "text/plain": [
       "<Figure size 432x288 with 1 Axes>"
      ]
     },
     "metadata": {
      "needs_background": "light"
     },
     "output_type": "display_data"
    }
   ],
   "source": [
    "plt.plot(x_list,avg_48)\n",
    "plt.xscale(\"log\")\n",
    "plt.ylabel('Number of Clusters')\n",
    "plt.xlabel('Inital Viral Concentration')\n",
    "plt.title(\"48 Hours\")\n",
    "plt.show()"
   ]
  },
  {
   "cell_type": "code",
   "execution_count": 101,
   "id": "a401ae88",
   "metadata": {},
   "outputs": [
    {
     "data": {
      "image/png": "[encoded data removed]",
      "text/plain": [
       "<Figure size 432x288 with 1 Axes>"
      ]
     },
     "metadata": {
      "needs_background": "light"
     },
     "output_type": "display_data"
    }
   ],
   "source": [
    "plt.plot(x_list,avg_72)\n",
    "plt.xscale(\"log\")\n",
    "plt.ylabel('Number of Clusters')\n",
    "plt.xlabel('Inital Viral Concentration')\n",
    "plt.title(\"72 Hours\")\n",
    "plt.show()"
   ]
  },
  {
   "cell_type": "code",
   "execution_count": 82,
   "id": "96d3a722",
   "metadata": {},
   "outputs": [
    {
     "name": "stdout",
     "output_type": "stream",
     "text": [
      "coefficient of determination: 0.9098640794475343\n",
      "intercept: 19.249631262185304\n",
      "slope: [13410.21252863]\n",
      "Predicted response:\n",
      "[153.35175655  32.65984379  20.59065252  19.38373339  19.26304147\n",
      "  19.25097228]\n"
     ]
    }
   ],
   "source": [
    "regsr= LinearRegression()\n",
    "X, Y = np.array(x_list).reshape((-1, 1)),np.array(avg_24)\n",
    "model = regsr.fit(X, Y)\n",
    "r_sq = model.score(X, Y)\n",
    "print('coefficient of determination:', r_sq)\n",
    "\n",
    "# Print the Intercept:\n",
    "print('intercept:', model.intercept_)\n",
    "\n",
    "# Print the Slope:\n",
    "print('slope:', model.coef_) \n",
    "\n",
    "# Predict a Response and print it:\n",
    "y_pred = model.predict(X)\n",
    "print('Predicted response:', y_pred, sep='\\n')\n"
   ]
  },
  {
   "cell_type": "code",
   "execution_count": 86,
   "id": "2e0cde89",
   "metadata": {},
   "outputs": [
    {
     "name": "stdout",
     "output_type": "stream",
     "text": [
      "coefficient of determination: 0.9710529383456672\n",
      "intercept: 7.257470354986671\n",
      "slope: [5170.97117928]\n",
      "Predicted response:\n",
      "[58.96718215 12.42844153  7.77456747  7.30918007  7.26264133  7.25798745]\n"
     ]
    }
   ],
   "source": [
    "regsr= LinearRegression()\n",
    "X, Y = np.array(x_list).reshape((-1, 1)),np.array(avg_48)\n",
    "model = regsr.fit(X, Y)\n",
    "r_sq = model.score(X, Y)\n",
    "print('coefficient of determination:', r_sq)\n",
    "\n",
    "# Print the Intercept:\n",
    "print('intercept:', model.intercept_)\n",
    "\n",
    "# Print the Slope:\n",
    "print('slope:', model.coef_) \n",
    "\n",
    "# Predict a Response and print it:\n",
    "y_pred = model.predict(X)\n",
    "print('Predicted response:', y_pred, sep='\\n')\n"
   ]
  },
  {
   "cell_type": "code",
   "execution_count": 89,
   "id": "3a4efb6c",
   "metadata": {},
   "outputs": [
    {
     "name": "stdout",
     "output_type": "stream",
     "text": [
      "coefficient of determination: 0.32939628115794894\n",
      "intercept: 6.389714899268174\n",
      "slope: [959.55491395]\n",
      "Predicted response:\n",
      "[15.98526404  7.34926981  6.48567039  6.39931045  6.39067445  6.38981085]\n"
     ]
    }
   ],
   "source": [
    "regsr= LinearRegression()\n",
    "X, Y = np.array(x_list).reshape((-1, 1)),np.array(avg_72)\n",
    "model = regsr.fit(X, Y)\n",
    "r_sq = model.score(X, Y)\n",
    "print('coefficient of determination:', r_sq)\n",
    "\n",
    "# Print the Intercept:\n",
    "print('intercept:', model.intercept_)\n",
    "\n",
    "# Print the Slope:\n",
    "print('slope:', model.coef_) \n",
    "\n",
    "# Predict a Response and print it:\n",
    "y_pred = model.predict(X)\n",
    "print('Predicted response:', y_pred, sep='\\n')\n"
   ]
  },
  {
   "cell_type": "code",
   "execution_count": 97,
   "id": "81671e80",
   "metadata": {},
   "outputs": [
    {
     "data": {
      "image/png": "[encoded data removed]",
      "text/plain": [
       "<Figure size 432x288 with 1 Axes>"
      ]
     },
     "metadata": {
      "needs_background": "light"
     },
     "output_type": "display_data"
    }
   ],
   "source": [
    "x_values = [24,48,72]\n",
    "y_values = [13410,5170,959]\n",
    "y_error = []\n",
    "plt.plot(x_values,y_values)\n",
    "plt.ylabel('Number of Clusters')\n",
    "plt.xlabel('Hours')\n",
    "plt.title(\"Graph of Expected Clusters\")\n",
    "plt.show()"
   ]
  }
 ],
 "metadata": {
  "kernelspec": {
   "display_name": "Python 3 (ipykernel)",
   "language": "python",
   "name": "python3"
  },
  "language_info": {
   "codemirror_mode": {
    "name": "ipython",
    "version": 3
   },
   "file_extension": ".py",
   "mimetype": "text/x-python",
   "name": "python",
   "nbconvert_exporter": "python",
   "pygments_lexer": "ipython3",
   "version": "3.9.10"
  }
 },
 "nbformat": 4,
 "nbformat_minor": 5
}
